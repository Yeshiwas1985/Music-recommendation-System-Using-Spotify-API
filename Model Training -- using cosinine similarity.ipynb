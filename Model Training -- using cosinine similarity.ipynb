{
 "cells": [
  {
   "cell_type": "code",
   "execution_count": 3,
   "id": "c81f1c0d-8977-44ce-a95e-624ece45861f",
   "metadata": {},
   "outputs": [],
   "source": [
    "import pandas as pd"
   ]
  },
  {
   "cell_type": "code",
   "execution_count": 4,
   "id": "09064009-e6e1-4dae-86d1-b6aba3ae9ac6",
   "metadata": {},
   "outputs": [],
   "source": [
    "df = pd.read_csv(\"spotify_millsongdata.csv\")"
   ]
  },
  {
   "cell_type": "code",
   "execution_count": 5,
   "id": "733cbb31-b41d-4b8a-9e47-66d44521742a",
   "metadata": {},
   "outputs": [
    {
     "name": "stdout",
     "output_type": "stream",
     "text": [
      "<class 'pandas.core.frame.DataFrame'>\n",
      "RangeIndex: 57650 entries, 0 to 57649\n",
      "Data columns (total 4 columns):\n",
      " #   Column  Non-Null Count  Dtype \n",
      "---  ------  --------------  ----- \n",
      " 0   artist  57650 non-null  object\n",
      " 1   song    57650 non-null  object\n",
      " 2   link    57650 non-null  object\n",
      " 3   text    57650 non-null  object\n",
      "dtypes: object(4)\n",
      "memory usage: 1.8+ MB\n"
     ]
    }
   ],
   "source": [
    "df.info()"
   ]
  },
  {
   "cell_type": "code",
   "execution_count": 6,
   "id": "94babc3a-943c-42a2-854f-3a8f43eaa690",
   "metadata": {},
   "outputs": [
    {
     "data": {
      "text/html": [
       "<div>\n",
       "<style scoped>\n",
       "    .dataframe tbody tr th:only-of-type {\n",
       "        vertical-align: middle;\n",
       "    }\n",
       "\n",
       "    .dataframe tbody tr th {\n",
       "        vertical-align: top;\n",
       "    }\n",
       "\n",
       "    .dataframe thead th {\n",
       "        text-align: right;\n",
       "    }\n",
       "</style>\n",
       "<table border=\"1\" class=\"dataframe\">\n",
       "  <thead>\n",
       "    <tr style=\"text-align: right;\">\n",
       "      <th></th>\n",
       "      <th>artist</th>\n",
       "      <th>song</th>\n",
       "      <th>link</th>\n",
       "      <th>text</th>\n",
       "    </tr>\n",
       "  </thead>\n",
       "  <tbody>\n",
       "    <tr>\n",
       "      <th>0</th>\n",
       "      <td>ABBA</td>\n",
       "      <td>Ahe's My Kind Of Girl</td>\n",
       "      <td>/a/abba/ahes+my+kind+of+girl_20598417.html</td>\n",
       "      <td>Look at her face, it's a wonderful face  \\r\\nA...</td>\n",
       "    </tr>\n",
       "    <tr>\n",
       "      <th>1</th>\n",
       "      <td>ABBA</td>\n",
       "      <td>Andante, Andante</td>\n",
       "      <td>/a/abba/andante+andante_20002708.html</td>\n",
       "      <td>Take it easy with me, please  \\r\\nTouch me gen...</td>\n",
       "    </tr>\n",
       "    <tr>\n",
       "      <th>2</th>\n",
       "      <td>ABBA</td>\n",
       "      <td>As Good As New</td>\n",
       "      <td>/a/abba/as+good+as+new_20003033.html</td>\n",
       "      <td>I'll never know why I had to go  \\r\\nWhy I had...</td>\n",
       "    </tr>\n",
       "    <tr>\n",
       "      <th>3</th>\n",
       "      <td>ABBA</td>\n",
       "      <td>Bang</td>\n",
       "      <td>/a/abba/bang_20598415.html</td>\n",
       "      <td>Making somebody happy is a question of give an...</td>\n",
       "    </tr>\n",
       "    <tr>\n",
       "      <th>4</th>\n",
       "      <td>ABBA</td>\n",
       "      <td>Bang-A-Boomerang</td>\n",
       "      <td>/a/abba/bang+a+boomerang_20002668.html</td>\n",
       "      <td>Making somebody happy is a question of give an...</td>\n",
       "    </tr>\n",
       "  </tbody>\n",
       "</table>\n",
       "</div>"
      ],
      "text/plain": [
       "  artist                   song                                        link  \\\n",
       "0   ABBA  Ahe's My Kind Of Girl  /a/abba/ahes+my+kind+of+girl_20598417.html   \n",
       "1   ABBA       Andante, Andante       /a/abba/andante+andante_20002708.html   \n",
       "2   ABBA         As Good As New        /a/abba/as+good+as+new_20003033.html   \n",
       "3   ABBA                   Bang                  /a/abba/bang_20598415.html   \n",
       "4   ABBA       Bang-A-Boomerang      /a/abba/bang+a+boomerang_20002668.html   \n",
       "\n",
       "                                                text  \n",
       "0  Look at her face, it's a wonderful face  \\r\\nA...  \n",
       "1  Take it easy with me, please  \\r\\nTouch me gen...  \n",
       "2  I'll never know why I had to go  \\r\\nWhy I had...  \n",
       "3  Making somebody happy is a question of give an...  \n",
       "4  Making somebody happy is a question of give an...  "
      ]
     },
     "execution_count": 6,
     "metadata": {},
     "output_type": "execute_result"
    }
   ],
   "source": [
    "df.head(5)"
   ]
  },
  {
   "cell_type": "code",
   "execution_count": 7,
   "id": "ceebdc6b-f001-4ccd-8e56-bab138ac362d",
   "metadata": {},
   "outputs": [
    {
     "data": {
      "text/html": [
       "<div>\n",
       "<style scoped>\n",
       "    .dataframe tbody tr th:only-of-type {\n",
       "        vertical-align: middle;\n",
       "    }\n",
       "\n",
       "    .dataframe tbody tr th {\n",
       "        vertical-align: top;\n",
       "    }\n",
       "\n",
       "    .dataframe thead th {\n",
       "        text-align: right;\n",
       "    }\n",
       "</style>\n",
       "<table border=\"1\" class=\"dataframe\">\n",
       "  <thead>\n",
       "    <tr style=\"text-align: right;\">\n",
       "      <th></th>\n",
       "      <th>artist</th>\n",
       "      <th>song</th>\n",
       "      <th>link</th>\n",
       "      <th>text</th>\n",
       "    </tr>\n",
       "  </thead>\n",
       "  <tbody>\n",
       "    <tr>\n",
       "      <th>57645</th>\n",
       "      <td>Ziggy Marley</td>\n",
       "      <td>Good Old Days</td>\n",
       "      <td>/z/ziggy+marley/good+old+days_10198588.html</td>\n",
       "      <td>Irie days come on play  \\r\\nLet the angels fly...</td>\n",
       "    </tr>\n",
       "    <tr>\n",
       "      <th>57646</th>\n",
       "      <td>Ziggy Marley</td>\n",
       "      <td>Hand To Mouth</td>\n",
       "      <td>/z/ziggy+marley/hand+to+mouth_20531167.html</td>\n",
       "      <td>Power to the workers  \\r\\nMore power  \\r\\nPowe...</td>\n",
       "    </tr>\n",
       "    <tr>\n",
       "      <th>57647</th>\n",
       "      <td>Zwan</td>\n",
       "      <td>Come With Me</td>\n",
       "      <td>/z/zwan/come+with+me_20148981.html</td>\n",
       "      <td>all you need  \\r\\nis something i'll believe  \\...</td>\n",
       "    </tr>\n",
       "    <tr>\n",
       "      <th>57648</th>\n",
       "      <td>Zwan</td>\n",
       "      <td>Desire</td>\n",
       "      <td>/z/zwan/desire_20148986.html</td>\n",
       "      <td>northern star  \\r\\nam i frightened  \\r\\nwhere ...</td>\n",
       "    </tr>\n",
       "    <tr>\n",
       "      <th>57649</th>\n",
       "      <td>Zwan</td>\n",
       "      <td>Heartsong</td>\n",
       "      <td>/z/zwan/heartsong_20148991.html</td>\n",
       "      <td>come in  \\r\\nmake yourself at home  \\r\\ni'm a ...</td>\n",
       "    </tr>\n",
       "  </tbody>\n",
       "</table>\n",
       "</div>"
      ],
      "text/plain": [
       "             artist           song  \\\n",
       "57645  Ziggy Marley  Good Old Days   \n",
       "57646  Ziggy Marley  Hand To Mouth   \n",
       "57647          Zwan   Come With Me   \n",
       "57648          Zwan         Desire   \n",
       "57649          Zwan      Heartsong   \n",
       "\n",
       "                                              link  \\\n",
       "57645  /z/ziggy+marley/good+old+days_10198588.html   \n",
       "57646  /z/ziggy+marley/hand+to+mouth_20531167.html   \n",
       "57647           /z/zwan/come+with+me_20148981.html   \n",
       "57648                 /z/zwan/desire_20148986.html   \n",
       "57649              /z/zwan/heartsong_20148991.html   \n",
       "\n",
       "                                                    text  \n",
       "57645  Irie days come on play  \\r\\nLet the angels fly...  \n",
       "57646  Power to the workers  \\r\\nMore power  \\r\\nPowe...  \n",
       "57647  all you need  \\r\\nis something i'll believe  \\...  \n",
       "57648  northern star  \\r\\nam i frightened  \\r\\nwhere ...  \n",
       "57649  come in  \\r\\nmake yourself at home  \\r\\ni'm a ...  "
      ]
     },
     "execution_count": 7,
     "metadata": {},
     "output_type": "execute_result"
    }
   ],
   "source": [
    "df.tail(5)"
   ]
  },
  {
   "cell_type": "code",
   "execution_count": 8,
   "id": "3ad9845b-35e3-4789-8e20-f6010e1fa217",
   "metadata": {},
   "outputs": [
    {
     "data": {
      "text/plain": [
       "(57650, 4)"
      ]
     },
     "execution_count": 8,
     "metadata": {},
     "output_type": "execute_result"
    }
   ],
   "source": [
    "df.shape"
   ]
  },
  {
   "cell_type": "code",
   "execution_count": 9,
   "id": "c149c70f-d444-44f2-b3cc-acc2d24db0ac",
   "metadata": {},
   "outputs": [
    {
     "data": {
      "text/plain": [
       "artist    0\n",
       "song      0\n",
       "link      0\n",
       "text      0\n",
       "dtype: int64"
      ]
     },
     "execution_count": 9,
     "metadata": {},
     "output_type": "execute_result"
    }
   ],
   "source": [
    "### checking the total of null values\n",
    "df.isnull().sum()"
   ]
  },
  {
   "cell_type": "code",
   "execution_count": 10,
   "id": "5b3ae1f7-5c5b-41a8-a2dc-cf29ee98ec0a",
   "metadata": {},
   "outputs": [],
   "source": [
    "### Droping link column, and  Taking only 10,000 samples\n",
    "df = df.sample(15000). drop('link', axis=1).reset_index(drop=True)"
   ]
  },
  {
   "cell_type": "code",
   "execution_count": 11,
   "id": "10b573dc-074f-4664-a3b8-88bd75c9b444",
   "metadata": {},
   "outputs": [
    {
     "data": {
      "text/html": [
       "<div>\n",
       "<style scoped>\n",
       "    .dataframe tbody tr th:only-of-type {\n",
       "        vertical-align: middle;\n",
       "    }\n",
       "\n",
       "    .dataframe tbody tr th {\n",
       "        vertical-align: top;\n",
       "    }\n",
       "\n",
       "    .dataframe thead th {\n",
       "        text-align: right;\n",
       "    }\n",
       "</style>\n",
       "<table border=\"1\" class=\"dataframe\">\n",
       "  <thead>\n",
       "    <tr style=\"text-align: right;\">\n",
       "      <th></th>\n",
       "      <th>artist</th>\n",
       "      <th>song</th>\n",
       "      <th>text</th>\n",
       "    </tr>\n",
       "  </thead>\n",
       "  <tbody>\n",
       "    <tr>\n",
       "      <th>0</th>\n",
       "      <td>Doobie Brothers</td>\n",
       "      <td>45Th Floor</td>\n",
       "      <td>Politician drivin' down the road  \\r\\nFlashin'...</td>\n",
       "    </tr>\n",
       "    <tr>\n",
       "      <th>1</th>\n",
       "      <td>Peter Gabriel</td>\n",
       "      <td>Don't Break This Rhythm</td>\n",
       "      <td>Don't break this rhythm, don't break this moti...</td>\n",
       "    </tr>\n",
       "    <tr>\n",
       "      <th>2</th>\n",
       "      <td>Miley Cyrus</td>\n",
       "      <td>This Is The Life</td>\n",
       "      <td>Take the world  \\r\\nShake and Stir  \\r\\nAnd th...</td>\n",
       "    </tr>\n",
       "    <tr>\n",
       "      <th>3</th>\n",
       "      <td>Nazareth</td>\n",
       "      <td>I Had A Dream</td>\n",
       "      <td>I had a dream  \\r\\nI had a dream  \\r\\nI saw th...</td>\n",
       "    </tr>\n",
       "    <tr>\n",
       "      <th>4</th>\n",
       "      <td>Leann Rimes</td>\n",
       "      <td>Commitment</td>\n",
       "      <td>What I'm lookin' for  \\r\\nIs a love that's for...</td>\n",
       "    </tr>\n",
       "  </tbody>\n",
       "</table>\n",
       "</div>"
      ],
      "text/plain": [
       "            artist                     song  \\\n",
       "0  Doobie Brothers               45Th Floor   \n",
       "1    Peter Gabriel  Don't Break This Rhythm   \n",
       "2      Miley Cyrus         This Is The Life   \n",
       "3         Nazareth            I Had A Dream   \n",
       "4      Leann Rimes               Commitment   \n",
       "\n",
       "                                                text  \n",
       "0  Politician drivin' down the road  \\r\\nFlashin'...  \n",
       "1  Don't break this rhythm, don't break this moti...  \n",
       "2  Take the world  \\r\\nShake and Stir  \\r\\nAnd th...  \n",
       "3  I had a dream  \\r\\nI had a dream  \\r\\nI saw th...  \n",
       "4  What I'm lookin' for  \\r\\nIs a love that's for...  "
      ]
     },
     "execution_count": 11,
     "metadata": {},
     "output_type": "execute_result"
    }
   ],
   "source": [
    "df.head(5)"
   ]
  },
  {
   "cell_type": "code",
   "execution_count": 12,
   "id": "7a36b7e3-771e-4599-a938-ce657e666b12",
   "metadata": {},
   "outputs": [
    {
     "data": {
      "text/plain": [
       "\"Politician drivin' down the road  \\r\\nFlashin' that smile that got him the vote.  \\r\\nHere's another country girl,  \\r\\nHe's teachin' her about the world in his room  \\r\\nOn the 45th floor - get 'em all while they're young.  \\r\\nCampaign money comes rollin' in  \\r\\nAin't nobody askin' where it's been,  \\r\\nTalk about a smokin' gun.  \\r\\nWhat'd we pay to get his son out of jail?  \\r\\nDon't inhale  \\r\\nOn the 45th floor.  \\r\\nWe all know what's been happenin',  \\r\\nAin't no slappin' him down.  \\r\\nWe're supposedly invited to the party,  \\r\\nBut the elevator's never gonna stop  \\r\\nOn the 45th floor.  \\r\\nDoesn't matter if it's day or night  \\r\\n'Cause we're all gonna pay the price.  \\r\\nAnd the party rolls on.  \\r\\nUsed to be a rumour goin' round,  \\r\\nThe people tried to run my man outta town.  \\r\\nWe thought we'd see him ride the rails.  \\r\\nNo one's ever gonna nail him down  \\r\\nAll because of the 45th floor.  \\r\\nWe all know what's been happenin',  \\r\\nAin't no slappin' him down.  \\r\\nWe're supposedly invited to the party,  \\r\\nBut the elevator's never gonna stop  \\r\\nOn the 45th floor.  \\r\\nOesn't matter if it's day or night  \\r\\n'Cause we're all gonna pay the price.  \\r\\nAnd the party rolls on.  \\r\\nNone of these fools ever thinks about the pain they cause.  \\r\\nIt's all about an image to uphold.  \\r\\nHow could anybody be so bold?  \\r\\nTakin' all the candy from the hands of a child.  \\r\\nWe all know what's been happenin',  \\r\\nAin't no slappin' him down.  \\r\\nWe're supposedly invited to the party,  \\r\\nBut the elevator's never gonna stop  \\r\\nOn the 45th floor.  \\r\\nDoesn't matter if it's day or night  \\r\\n'Cause we're all gonna pay the price.  \\r\\nAnd the party rolls on.  \\r\\nDoesn't matter if it's day or night  \\r\\n'Cause we're all gonna pay the price.  \\r\\nAnd the party rolls on.  \\r\\n  \\r\\n\\r\\n\""
      ]
     },
     "execution_count": 12,
     "metadata": {},
     "output_type": "execute_result"
    }
   ],
   "source": [
    "### Lyrics of the first song\n",
    "df['text'][0]"
   ]
  },
  {
   "cell_type": "code",
   "execution_count": null,
   "id": "b963a508-be07-45fb-9bba-ce0f6382fa46",
   "metadata": {},
   "outputs": [],
   "source": []
  },
  {
   "cell_type": "code",
   "execution_count": 13,
   "id": "96ed9258-b1d4-4844-8c3c-a8017c4635b2",
   "metadata": {},
   "outputs": [
    {
     "data": {
      "text/plain": [
       "(15000, 3)"
      ]
     },
     "execution_count": 13,
     "metadata": {},
     "output_type": "execute_result"
    }
   ],
   "source": [
    "df.shape"
   ]
  },
  {
   "cell_type": "markdown",
   "id": "67066bb8-6f54-4725-9091-cdafc2771a2c",
   "metadata": {},
   "source": [
    "### text cleaning / text preprocessing"
   ]
  },
  {
   "cell_type": "code",
   "execution_count": 14,
   "id": "f792c1d4-055a-4313-9394-375763d30b01",
   "metadata": {},
   "outputs": [],
   "source": [
    "### 1. changint the text into lower case, and then replacing special characters, numbers, and newline by white space\n",
    "df['text'] = df['text'].str.lower().replace(r'^\\w\\s', '').replace(r'\\n', '', regex=True)"
   ]
  },
  {
   "cell_type": "code",
   "execution_count": 15,
   "id": "b19dd92e-bbcf-4c3d-8f87-7f4631c9c017",
   "metadata": {},
   "outputs": [
    {
     "data": {
      "text/plain": [
       "0        politician drivin' down the road  \\rflashin' t...\n",
       "1        don't break this rhythm, don't break this moti...\n",
       "2        take the world  \\rshake and stir  \\rand that's...\n",
       "3        i had a dream  \\ri had a dream  \\ri saw the mi...\n",
       "4        what i'm lookin' for  \\ris a love that's forev...\n",
       "                               ...                        \n",
       "14995    it said 3:30 on my watch  \\rbig show don't sta...\n",
       "14996    i could hold on for a hundred years  \\rwhen al...\n",
       "14997    just for the fun of it  \\rjust to be gay  \\ryo...\n",
       "14998    tell me true tell me why was jesus crucified  ...\n",
       "14999    i hear the beating of your wings  \\rand you're...\n",
       "Name: text, Length: 15000, dtype: object"
      ]
     },
     "execution_count": 15,
     "metadata": {},
     "output_type": "execute_result"
    }
   ],
   "source": [
    "df['text']"
   ]
  },
  {
   "cell_type": "code",
   "execution_count": 16,
   "id": "13e9c25f-2144-4c04-a6a1-0347ef6c94b9",
   "metadata": {},
   "outputs": [],
   "source": [
    "### Replacing the cartage return by null\n",
    "df['text'] = df['text'].str.lower().replace(r'^\\w\\s', '').replace(r'\\r', '', regex=True)"
   ]
  },
  {
   "cell_type": "code",
   "execution_count": 18,
   "id": "cc97f578-ab4b-496e-a5c2-603b81cad261",
   "metadata": {},
   "outputs": [
    {
     "data": {
      "text/plain": [
       "0        politician drivin' down the road  flashin' tha...\n",
       "1        don't break this rhythm, don't break this moti...\n",
       "2        take the world  shake and stir  and that's wha...\n",
       "3        i had a dream  i had a dream  i saw the missio...\n",
       "4        what i'm lookin' for  is a love that's forever...\n",
       "                               ...                        \n",
       "14995    it said 3:30 on my watch  big show don't start...\n",
       "14996    i could hold on for a hundred years  when all ...\n",
       "14997    just for the fun of it  just to be gay  you ma...\n",
       "14998    tell me true tell me why was jesus crucified  ...\n",
       "14999    i hear the beating of your wings  and you're p...\n",
       "Name: text, Length: 15000, dtype: object"
      ]
     },
     "execution_count": 18,
     "metadata": {},
     "output_type": "execute_result"
    }
   ],
   "source": [
    "df['text']"
   ]
  },
  {
   "cell_type": "code",
   "execution_count": 19,
   "id": "af0eb746-0299-4b9f-b518-3173772ea6c5",
   "metadata": {},
   "outputs": [
    {
     "data": {
      "text/plain": [
       "\"politician drivin' down the road  flashin' that smile that got him the vote.  here's another country girl,  he's teachin' her about the world in his room  on the 45th floor - get 'em all while they're young.  campaign money comes rollin' in  ain't nobody askin' where it's been,  talk about a smokin' gun.  what'd we pay to get his son out of jail?  don't inhale  on the 45th floor.  we all know what's been happenin',  ain't no slappin' him down.  we're supposedly invited to the party,  but the elevator's never gonna stop  on the 45th floor.  doesn't matter if it's day or night  'cause we're all gonna pay the price.  and the party rolls on.  used to be a rumour goin' round,  the people tried to run my man outta town.  we thought we'd see him ride the rails.  no one's ever gonna nail him down  all because of the 45th floor.  we all know what's been happenin',  ain't no slappin' him down.  we're supposedly invited to the party,  but the elevator's never gonna stop  on the 45th floor.  oesn't matter if it's day or night  'cause we're all gonna pay the price.  and the party rolls on.  none of these fools ever thinks about the pain they cause.  it's all about an image to uphold.  how could anybody be so bold?  takin' all the candy from the hands of a child.  we all know what's been happenin',  ain't no slappin' him down.  we're supposedly invited to the party,  but the elevator's never gonna stop  on the 45th floor.  doesn't matter if it's day or night  'cause we're all gonna pay the price.  and the party rolls on.  doesn't matter if it's day or night  'cause we're all gonna pay the price.  and the party rolls on.    \""
      ]
     },
     "execution_count": 19,
     "metadata": {},
     "output_type": "execute_result"
    }
   ],
   "source": [
    "df['text'][0]"
   ]
  },
  {
   "cell_type": "code",
   "execution_count": 20,
   "id": "dc5e00dd-109d-4bc6-b8e5-ecc64e163df5",
   "metadata": {},
   "outputs": [
    {
     "name": "stderr",
     "output_type": "stream",
     "text": [
      "[nltk_data] Downloading package punkt to\n",
      "[nltk_data]     C:\\Users\\Administrator\\AppData\\Roaming\\nltk_data...\n",
      "[nltk_data]   Package punkt is already up-to-date!\n"
     ]
    },
    {
     "data": {
      "text/plain": [
       "True"
      ]
     },
     "execution_count": 20,
     "metadata": {},
     "output_type": "execute_result"
    }
   ],
   "source": [
    "import nltk\n",
    "nltk.download('punkt')"
   ]
  },
  {
   "cell_type": "code",
   "execution_count": 21,
   "id": "2c76abcc-e812-4500-b58f-11345595a435",
   "metadata": {},
   "outputs": [],
   "source": [
    "### 2. then we need to stem the text \n",
    "from nltk.stem.porter import PorterStemmer"
   ]
  },
  {
   "cell_type": "code",
   "execution_count": 22,
   "id": "d34b0a6a-2b3d-4bb3-b026-5b5481f709c6",
   "metadata": {},
   "outputs": [],
   "source": [
    "stemmer = PorterStemmer()"
   ]
  },
  {
   "cell_type": "code",
   "execution_count": 23,
   "id": "6b86f3c2-7aab-4465-8978-460200bae2c1",
   "metadata": {},
   "outputs": [],
   "source": [
    "### Then we need to convert the words into tokens\n",
    "def token(text):\n",
    "    token = nltk.word_tokenize(text)\n",
    "    a = [stemmer.stem(w) for w in token]\n",
    "    return \" \".join(a)"
   ]
  },
  {
   "cell_type": "code",
   "execution_count": 24,
   "id": "d1ac9829-dbce-4f3c-88e0-b272b909cc65",
   "metadata": {},
   "outputs": [
    {
     "data": {
      "text/plain": [
       "'you are so beauti , beauti'"
      ]
     },
     "execution_count": 24,
     "metadata": {},
     "output_type": "execute_result"
    }
   ],
   "source": [
    "### example\n",
    "token(\"you are so beautiful, beauty\")"
   ]
  },
  {
   "cell_type": "code",
   "execution_count": 25,
   "id": "720d6e00-e1e0-422b-8e26-28945507aa74",
   "metadata": {},
   "outputs": [
    {
     "data": {
      "text/plain": [
       "0        politician drivin ' down the road flashin ' th...\n",
       "1        do n't break thi rhythm , do n't break thi mot...\n",
       "2        take the world shake and stir and that 's what...\n",
       "3        i had a dream i had a dream i saw the mission ...\n",
       "4        what i 'm lookin ' for is a love that 's forev...\n",
       "                               ...                        \n",
       "14995    it said 3:30 on my watch big show do n't start...\n",
       "14996    i could hold on for a hundr year when all els ...\n",
       "14997    just for the fun of it just to be gay you made...\n",
       "14998    tell me true tell me whi wa jesu crucifi is it...\n",
       "14999    i hear the beat of your wing and you 're play ...\n",
       "Name: text, Length: 15000, dtype: object"
      ]
     },
     "execution_count": 25,
     "metadata": {},
     "output_type": "execute_result"
    }
   ],
   "source": [
    "### Applying the token function to the text column\n",
    "df['text'].apply(lambda x: token(x))"
   ]
  },
  {
   "cell_type": "code",
   "execution_count": 26,
   "id": "a17e90f9-ba8e-4655-8031-dbc3a54cc06f",
   "metadata": {},
   "outputs": [],
   "source": [
    "### 3. then we need to vectorize the words\n",
    "### for this task, we use TF-IDF vectorizer\n",
    "from sklearn.feature_extraction.text import TfidfVectorizer\n",
    "\n",
    "### to calculate the distance between data points, we use cosine similarity\n",
    "from sklearn.metrics.pairwise import cosine_similarity"
   ]
  },
  {
   "cell_type": "code",
   "execution_count": 27,
   "id": "0a74df75-3e43-4126-947e-440ab0c191e6",
   "metadata": {},
   "outputs": [],
   "source": [
    "### Using TfidfVectorizer\n",
    "tfidf = TfidfVectorizer(analyzer='word', stop_words='english')"
   ]
  },
  {
   "cell_type": "code",
   "execution_count": 28,
   "id": "042875c1-d01c-4d38-9263-b1bad20570a7",
   "metadata": {},
   "outputs": [
    {
     "data": {
      "text/plain": [
       "<15000x42318 sparse matrix of type '<class 'numpy.float64'>'\n",
       "\twith 801462 stored elements in Compressed Sparse Row format>"
      ]
     },
     "execution_count": 28,
     "metadata": {},
     "output_type": "execute_result"
    }
   ],
   "source": [
    "tfidf.fit_transform(df['text'])"
   ]
  },
  {
   "cell_type": "code",
   "execution_count": 29,
   "id": "d34d93e4-31f3-4939-a4c6-7d35de1d6257",
   "metadata": {},
   "outputs": [],
   "source": [
    "matrix  = tfidf.fit_transform(df['text'])"
   ]
  },
  {
   "cell_type": "code",
   "execution_count": 30,
   "id": "660a487c-e8fe-474f-9d20-a50efac8ba47",
   "metadata": {},
   "outputs": [
    {
     "data": {
      "text/plain": [
       "array([[1.        , 0.01619479, 0.05150774, ..., 0.        , 0.        ,\n",
       "        0.00475084],\n",
       "       [0.01619479, 1.        , 0.03452125, ..., 0.00997484, 0.00186286,\n",
       "        0.        ],\n",
       "       [0.05150774, 0.03452125, 1.        , ..., 0.02957952, 0.03252441,\n",
       "        0.02023392],\n",
       "       ...,\n",
       "       [0.        , 0.00997484, 0.02957952, ..., 1.        , 0.05868719,\n",
       "        0.03726264],\n",
       "       [0.        , 0.00186286, 0.03252441, ..., 0.05868719, 1.        ,\n",
       "        0.        ],\n",
       "       [0.00475084, 0.        , 0.02023392, ..., 0.03726264, 0.        ,\n",
       "        1.        ]])"
      ]
     },
     "execution_count": 30,
     "metadata": {},
     "output_type": "execute_result"
    }
   ],
   "source": [
    "cosine_similarity(matrix)"
   ]
  },
  {
   "cell_type": "code",
   "execution_count": 31,
   "id": "51751ad9-5b5f-4507-8013-a14e190945b1",
   "metadata": {},
   "outputs": [],
   "source": [
    "similar = cosine_similarity(matrix)"
   ]
  },
  {
   "cell_type": "code",
   "execution_count": 32,
   "id": "d89ca450-727a-48a0-b997-9de7e3eb9339",
   "metadata": {},
   "outputs": [
    {
     "data": {
      "text/plain": [
       "array([1.        , 0.01619479, 0.05150774, ..., 0.        , 0.        ,\n",
       "       0.00475084])"
      ]
     },
     "execution_count": 32,
     "metadata": {},
     "output_type": "execute_result"
    }
   ],
   "source": [
    "similar[0]"
   ]
  },
  {
   "cell_type": "code",
   "execution_count": 33,
   "id": "9b85fe1c-3b3b-4c82-b9fa-e348dfe0f534",
   "metadata": {},
   "outputs": [
    {
     "data": {
      "text/plain": [
       "0                     45Th Floor\n",
       "1        Don't Break This Rhythm\n",
       "2               This Is The Life\n",
       "3                  I Had A Dream\n",
       "4                     Commitment\n",
       "                  ...           \n",
       "14995             Low Down Dirty\n",
       "14996        In Another Lifetime\n",
       "14997     Just For The Fun Of It\n",
       "14998         The Post War Dream\n",
       "14999                    Haunted\n",
       "Name: song, Length: 15000, dtype: object"
      ]
     },
     "execution_count": 33,
     "metadata": {},
     "output_type": "execute_result"
    }
   ],
   "source": [
    "df['song']"
   ]
  },
  {
   "cell_type": "code",
   "execution_count": 35,
   "id": "ceb5db0a-fcf5-4f54-9978-16cc4ddab54a",
   "metadata": {},
   "outputs": [
    {
     "data": {
      "text/html": [
       "<div>\n",
       "<style scoped>\n",
       "    .dataframe tbody tr th:only-of-type {\n",
       "        vertical-align: middle;\n",
       "    }\n",
       "\n",
       "    .dataframe tbody tr th {\n",
       "        vertical-align: top;\n",
       "    }\n",
       "\n",
       "    .dataframe thead th {\n",
       "        text-align: right;\n",
       "    }\n",
       "</style>\n",
       "<table border=\"1\" class=\"dataframe\">\n",
       "  <thead>\n",
       "    <tr style=\"text-align: right;\">\n",
       "      <th></th>\n",
       "      <th>artist</th>\n",
       "      <th>song</th>\n",
       "      <th>text</th>\n",
       "    </tr>\n",
       "  </thead>\n",
       "  <tbody>\n",
       "    <tr>\n",
       "      <th>14996</th>\n",
       "      <td>Gary Valenciano</td>\n",
       "      <td>In Another Lifetime</td>\n",
       "      <td>i could hold on for a hundred years  when all ...</td>\n",
       "    </tr>\n",
       "  </tbody>\n",
       "</table>\n",
       "</div>"
      ],
      "text/plain": [
       "                artist                 song  \\\n",
       "14996  Gary Valenciano  In Another Lifetime   \n",
       "\n",
       "                                                    text  \n",
       "14996  i could hold on for a hundred years  when all ...  "
      ]
     },
     "execution_count": 35,
     "metadata": {},
     "output_type": "execute_result"
    }
   ],
   "source": [
    "df[df['song'] == 'In Another Lifetime']"
   ]
  },
  {
   "cell_type": "code",
   "execution_count": 37,
   "id": "47363e1c-419d-45ea-9ae6-1c844bab0fee",
   "metadata": {},
   "outputs": [
    {
     "data": {
      "text/plain": [
       "14996"
      ]
     },
     "execution_count": 37,
     "metadata": {},
     "output_type": "execute_result"
    }
   ],
   "source": [
    "df[df['song'] == 'In Another Lifetime'].index[0]"
   ]
  },
  {
   "cell_type": "markdown",
   "id": "9200458f-bf37-4659-9175-7d1a8528c8f4",
   "metadata": {},
   "source": [
    "### Recommender Function\n",
    "the recommender function uses cosine similarity, hybrid is the best alternative"
   ]
  },
  {
   "cell_type": "code",
   "execution_count": 38,
   "id": "82dffe90-f505-415d-ae69-b758014bbc25",
   "metadata": {},
   "outputs": [],
   "source": [
    "def recommender(song_name):\n",
    "    idx = df[df['song'] == song_name].index[0]\n",
    "    distance = sorted(list(enumerate(similar[idx])), reverse=True, key=lambda x: x[1])\n",
    "    song = []\n",
    "    for s_id in distance[1:16]: ### to recommend me the first 15 songs\n",
    "        song.append(df.iloc[s_id[0]].song)\n",
    "    return song"
   ]
  },
  {
   "cell_type": "code",
   "execution_count": 39,
   "id": "5fe462a7-8b58-4ad9-a5b3-53a0c47e5bd4",
   "metadata": {
    "scrolled": true
   },
   "outputs": [
    {
     "data": {
      "text/plain": [
       "['I Believe',\n",
       " 'Promise',\n",
       " 'This Is The Time',\n",
       " \"If Ever You're In My Arms Again\",\n",
       " 'Be My Forever',\n",
       " 'All My Life',\n",
       " \"Say You'll Be Mine\",\n",
       " 'Still Around',\n",
       " 'Forever In Your Heart',\n",
       " 'On The Line',\n",
       " 'I Feel Your Pain',\n",
       " 'How',\n",
       " 'Pieces Of A Dream',\n",
       " \"Love We Got Goin'\",\n",
       " 'The Love He Has For You']"
      ]
     },
     "execution_count": 39,
     "metadata": {},
     "output_type": "execute_result"
    }
   ],
   "source": [
    "recommender(\"In Another Lifetime\")"
   ]
  },
  {
   "cell_type": "markdown",
   "id": "341a859a-ba09-4016-93ca-803b7e3611f9",
   "metadata": {},
   "source": [
    "### Dumping the models"
   ]
  },
  {
   "cell_type": "code",
   "execution_count": 40,
   "id": "0cfb1ed8-519c-4247-942a-5e5a82924588",
   "metadata": {},
   "outputs": [],
   "source": [
    "import pickle"
   ]
  },
  {
   "cell_type": "code",
   "execution_count": 41,
   "id": "5f3a2a17-47f7-4153-ba46-acad340478aa",
   "metadata": {},
   "outputs": [],
   "source": [
    "pickle.dump(similar, open(\"similarity.pkl\", \"wb\"))"
   ]
  },
  {
   "cell_type": "code",
   "execution_count": 42,
   "id": "d47c4823-c16f-4dac-b392-911fecb3eb9f",
   "metadata": {},
   "outputs": [],
   "source": [
    "pickle.dump(df, open(\"df.pkl\", \"wb\"))"
   ]
  }
 ],
 "metadata": {
  "kernelspec": {
   "display_name": "Python 3 (ipykernel)",
   "language": "python",
   "name": "python3"
  },
  "language_info": {
   "codemirror_mode": {
    "name": "ipython",
    "version": 3
   },
   "file_extension": ".py",
   "mimetype": "text/x-python",
   "name": "python",
   "nbconvert_exporter": "python",
   "pygments_lexer": "ipython3",
   "version": "3.10.10"
  }
 },
 "nbformat": 4,
 "nbformat_minor": 5
}
